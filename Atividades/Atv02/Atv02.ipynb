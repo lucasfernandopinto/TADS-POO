{
 "cells": [
  {
   "cell_type": "markdown",
   "id": "04689213-3104-4518-b399-8c1c86e4eace",
   "metadata": {},
   "source": [
    "# Exercício 01\n",
    "\n",
    "<p style=\"text-align:justify;\">\n",
    "Você é desafiado a criar uma classe em Java chamada ExercicioVariaveis que declare e inicialize variáveis de todos os tipos primitivos disponíveis na linguagem Java. Além disso, a classe deve utilizar caracteres especiais em algumas strings para demonstrar o uso adequado desses caracteres.\n",
    "\n",
    "Siga as instruções abaixo:\n",
    "</p>\n",
    "\n",
    "\n",
    "1. Declare e inicialize variáveis dos seguintes tipos primitivos:\n",
    "\n",
    "- int\n",
    "- long\n",
    "- float\n",
    "- double\n",
    "- char\n",
    "- boolean\n",
    "- byte\n",
    "- short\n",
    "- Exiba os valores das variáveis utilizando System.out.println.\n",
    "\n",
    "2. Utilize caracteres especiais em algumas strings para representar:\n",
    "\n",
    "- Caractere de nova linha (\\n)\n",
    "- Caractere de tabulação (\\t)\n",
    "- Caractere de aspas duplas (\")\n",
    "- Caractere de barra invertida (\\\\)\n",
    "- Certifique-se de que o código compila e execute corretamente.\n",
    "\n"
   ]
  },
  {
   "cell_type": "code",
   "execution_count": null,
   "id": "16f0ad2d-7f62-4f2a-bc7c-0adff558865a",
   "metadata": {},
   "outputs": [],
   "source": []
  },
  {
   "cell_type": "markdown",
   "id": "6a091ea4-7160-4a68-8e27-516281cdde44",
   "metadata": {},
   "source": [
    "# Exercício 02\n",
    "\n",
    "<p style=\"text-align:justify;\">\n",
    "Crie uma classe que efetue a leitura de um valor inteiro e outro real, exibindo-os no console.\n",
    "</p>\n"
   ]
  },
  {
   "cell_type": "code",
   "execution_count": null,
   "id": "b1fc1c9c-1041-4489-ab5a-c6dbb117c46e",
   "metadata": {},
   "outputs": [],
   "source": []
  },
  {
   "cell_type": "markdown",
   "id": "f4fa7c5f-f375-4dbd-9d41-c29e4aa530b8",
   "metadata": {},
   "source": [
    "# Exercício 03\n",
    "\n",
    "<p style=\"text-align:justify;\">\n",
    "Crie uma classe que receba o valor de um produto e a porcentagem de desconto, calcule e mostre o valor do desconto e o valor do produto com o desconto. \n",
    "</p>\n",
    "\n",
    "- Observação: o valor do desconto é calculado por meio da fórmula: \n",
    "    valor do desconto = valor do produto * percentual de desconto / 100."
   ]
  },
  {
   "cell_type": "code",
   "execution_count": null,
   "id": "27572059-80fa-4edc-8b68-8a278f44beb2",
   "metadata": {},
   "outputs": [],
   "source": []
  },
  {
   "cell_type": "markdown",
   "id": "9fe1c075-7e1e-4ee7-ad63-82c57f315026",
   "metadata": {},
   "source": [
    "# Exercício 04\n",
    "\n",
    "<p style=\"text-align:justify;\">\n",
    "Crie uma classe que receba dois valores inteiros. \n",
    "</p>\n",
    "\n",
    "- O primeiro valor corresponde à quantidade de pontos do líder do campeonato brasileiro de futebol. \n",
    "\n",
    "- O segundo valor corresponde à quantidade de pontos do time lanterna. \n",
    "\n",
    "<p style=\"text-align:justify;\">\n",
    "- Considerando que cada vitória vale 3 pontos, calcule o número de vitórias necessárias para que o time lanterna alcance (ou ultrapasse) o líder. \n",
    "    \n",
    "- Por exemplo, supondo que as quantidades de ponto fornecidas sejam 40 e 22, então o número de vitórias apresentada na saída deverá ser 6, pois (40-22) / 3 = 6.\n",
    "</p>"
   ]
  },
  {
   "cell_type": "code",
   "execution_count": null,
   "id": "5914c0ce-a615-4b29-804e-ef33d0791bcc",
   "metadata": {},
   "outputs": [],
   "source": []
  },
  {
   "cell_type": "markdown",
   "id": "4633896c-66f1-4a5c-84f4-de80d09b3a6b",
   "metadata": {},
   "source": [
    "# Exercício 05\n",
    "\n",
    "<p style=\"text-align:justify;\">\n",
    "Escreva instruções para realizar cada uma das tarefas a seguir:\n",
    "\n",
    "1. Declare que as variáveis c, thisIsAVariable, q76354 e number serão do tipo int.\n",
    "\n",
    "2. Solicite que o usuário insira um inteiro.\n",
    "\n",
    "3. Insira um inteiro e atribua o resultado à variável int value. Suponha que a variável Scanner input possa ser utilizada para ler um valor digitado pelo usuário.\n",
    "\n",
    "4. Imprima “Este é um programa em Java\" em uma linha na janela de comando. Use o método System.out.println.\n",
    "\n",
    "5. Imprima “Este é um programa em Java\" em duas linhas na janela de comando. Utilize o método System.out.printf e dois especificadores de formato %s.\n",
    "</p>\n"
   ]
  },
  {
   "cell_type": "markdown",
   "id": "42906d7e-d01b-49b2-bfef-ed4fdd6dab07",
   "metadata": {},
   "source": [
    "# Exercício 06 \n",
    "<p style=\"text-align:justify;\">\n",
    "Crie uma classe que solicite ao usuário inserir dois inteiros, obtenha dele esses números e imprima sua soma, produto, diferença e quociente (divisão).\n",
    "</p>"
   ]
  },
  {
   "cell_type": "code",
   "execution_count": null,
   "id": "68cc1699-d585-40ea-b0d4-edd278538f20",
   "metadata": {},
   "outputs": [],
   "source": []
  },
  {
   "cell_type": "markdown",
   "id": "db7c7f2a-c557-430a-ade4-8252198f95b5",
   "metadata": {},
   "source": [
    "# Exercício 07 \n",
    "\n",
    "Declare uma classe para calcular o produto de três inteiros.\n",
    "\n",
    "Siga as instruções abaixo:\n",
    "\n",
    "1. Crie um Scanner chamado input que leia valores a partir da entrada padrão.\n",
    "2. Declare as variáveis x, y, z e result como tipo int.\n",
    "3. Solicite que o usuário insira o primeiro inteiro.\n",
    "4. Leia o primeiro inteiro digitado pelo usuário e armazene-o na variável x.\n",
    "5. Solicite que o usuário insira o segundo inteiro.\n",
    "6. Leia o segundo inteiro digitado pelo usuário e armazene-o na variável y.\n",
    "7. Solicite que o usuário insira o terceiro inteiro.\n",
    "8. Leia o terceiro inteiro digitado pelo usuário e armazene-o na variável z.\n",
    "9. Compute o produto dos três inteiros contidos nas variáveis x, y e z e atribua o resultado à variável result.\n",
    "19. Use System.out.printf para exibir a mensagem “O valor do produto é” seguida pelo valor da variável result. "
   ]
  },
  {
   "cell_type": "code",
   "execution_count": null,
   "id": "c421ee60-57dd-4674-8436-2e43e758e4f1",
   "metadata": {},
   "outputs": [],
   "source": []
  }
 ],
 "metadata": {
  "kernelspec": {
   "display_name": "Java",
   "language": "java",
   "name": "java"
  },
  "language_info": {
   "codemirror_mode": "java",
   "file_extension": ".jshell",
   "mimetype": "text/x-java-source",
   "name": "Java",
   "pygments_lexer": "java",
   "version": "21.0.1+12-LTS-29"
  }
 },
 "nbformat": 4,
 "nbformat_minor": 5
}
